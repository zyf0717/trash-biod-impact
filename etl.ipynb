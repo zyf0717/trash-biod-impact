{
 "cells": [
  {
   "cell_type": "code",
   "execution_count": 2,
   "metadata": {},
   "outputs": [],
   "source": [
    "import numpy as np\n",
    "import pandas as pd"
   ]
  },
  {
   "cell_type": "code",
   "execution_count": 3,
   "metadata": {},
   "outputs": [],
   "source": [
    "##### Read Data #####\n",
    "woc_data_df = pd.read_csv(\"woc_data.csv\")\n",
    "trash_toxicity_dim = pd.read_csv(\"trash_toxicity_dim.csv\")\n",
    "trash_location_input = pd.read_csv(\"trash_location_all.csv\")  # To replace with input data \"input_data.csv\"\n",
    "\n",
    "\n",
    "##### Data Modeling #####\n",
    "trash_amount_fact = woc_data_df[['trash_type', 'location', 'ecosystem_impacted', 'trash_amount']]\n",
    "trash_amount_fact = trash_amount_fact.dropna()\n",
    "trash_amount_fact['trash_amount'] = trash_amount_fact['trash_amount'].astype(int)\n",
    "\n",
    "trash_biod_fact = woc_data_df.drop(['trash_amount'], axis=1).reset_index(drop=True)\n",
    "trash_biod_fact['individuals_affected'] = trash_biod_fact['individuals_affected'].astype(int)\n",
    "\n",
    "trash_location_df = trash_biod_fact[['trash_type', 'location']]\n",
    "trash_location_df = trash_location_df.drop_duplicates().reset_index(drop=True)\n",
    "\n",
    "# Left join to keep only items found in input_data\n",
    "trash_amount_df = trash_location_input.merge(trash_amount_fact, how='left', on=['trash_type', 'location'])\n",
    "trash_biod_df = trash_location_input.merge(trash_biod_fact, how='left', on=['trash_type', 'location'])\n",
    "\n",
    "# Convert certain columns to categorical\n",
    "categorical_columns = ['trash_type', 'location', 'ecosystem_impacted', 'species_impacted']\n",
    "trash_biod_df[categorical_columns] = trash_biod_df[categorical_columns].apply(lambda x: x.astype('category'))\n"
   ]
  },
  {
   "cell_type": "code",
   "execution_count": null,
   "metadata": {},
   "outputs": [],
   "source": []
  }
 ],
 "metadata": {
  "kernelspec": {
   "display_name": "trash-biod-impact",
   "language": "python",
   "name": "python3"
  },
  "language_info": {
   "codemirror_mode": {
    "name": "ipython",
    "version": 3
   },
   "file_extension": ".py",
   "mimetype": "text/x-python",
   "name": "python",
   "nbconvert_exporter": "python",
   "pygments_lexer": "ipython3",
   "version": "3.12.5"
  }
 },
 "nbformat": 4,
 "nbformat_minor": 2
}
